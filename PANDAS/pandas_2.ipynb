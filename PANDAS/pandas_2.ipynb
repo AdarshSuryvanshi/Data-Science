{
 "cells": [
  {
   "cell_type": "code",
   "execution_count": null,
   "metadata": {},
   "outputs": [],
   "source": [
    "import pandas as pd"
   ]
  },
  {
   "cell_type": "code",
   "execution_count": 3,
   "metadata": {},
   "outputs": [
    {
     "name": "stdout",
     "output_type": "stream",
     "text": [
      "DataFrame created from a dictionary:\n",
      "      Name  Age  Salary\n",
      "0    Alice   25   50000\n",
      "1      Bob   30   60000\n",
      "2  Charlie   35   70000\n",
      "\n",
      "\n",
      "DataFrame created from a dictionary:\n",
      "      Name  Age      City\n",
      "0    Alice   25    Mumbai\n",
      "1      Bob   30     Delhi\n",
      "2  Charlie   35  Banglore\n",
      "\n",
      "\n",
      " Now we are creating  the DataFrame from List of Dictionaries\n",
      "    Name  Age       City\n",
      "0  Krish   32  Bangalore\n",
      "1   John   34  Bangalore\n",
      "2  Bappy   32  Bangalore\n",
      "3   JAck   32  Bangalore\n",
      "<class 'pandas.core.frame.DataFrame'>\n"
     ]
    }
   ],
   "source": [
    "## Different ways to Create a Data-Frame..\n",
    "#1) From a Dictionary\n",
    "import pandas as pd\n",
    "\n",
    "# Creating a DataFrame from a dictionary\n",
    "data = {\n",
    "    \"Name\": [\"Alice\", \"Bob\", \"Charlie\"],\n",
    "    \"Age\": [25, 30, 35],\n",
    "    \"Salary\": [50000, 60000, 70000]\n",
    "}\n",
    "df = pd.DataFrame(data)\n",
    "print(\"DataFrame created from a dictionary:\")\n",
    "print(df)\n",
    "\n",
    "data = {\n",
    "    \"Name\": [\"Alice\", \"Bob\", \"Charlie\"],\n",
    "    \"Age\": [25, 30, 35],\n",
    "    \"City\": [\"Mumbai\", \"Delhi\", \"Banglore\"]\n",
    "}\n",
    "print('\\n')\n",
    "df = pd.DataFrame(data)\n",
    "print(\"DataFrame created from a dictionary:\")\n",
    "print(df)\n",
    "\n",
    "print('\\n')\n",
    "print(\" Now we are creating  the DataFrame from List of Dictionaries\")\n",
    "# Another way to create a Dataframe \n",
    "data=[\n",
    "    {'Name':'Krish','Age':32,'City':'Bangalore'},\n",
    "    {'Name':'John','Age':34,'City':'Bangalore'},\n",
    "    {'Name':'Bappy','Age':32,'City':'Bangalore'},\n",
    "    {'Name':'JAck','Age':32,'City':'Bangalore'}\n",
    "    \n",
    "]\n",
    "df=pd.DataFrame(data)\n",
    "print(df)\n",
    "print(type(df))"
   ]
  },
  {
   "cell_type": "code",
   "execution_count": 5,
   "metadata": {},
   "outputs": [
    {
     "data": {
      "text/plain": [
       "array([['Alice', 25, 'Mumbai'],\n",
       "       ['Bob', 30, 'Delhi'],\n",
       "       ['Charlie', 35, 'Banglore']], dtype=object)"
      ]
     },
     "execution_count": 5,
     "metadata": {},
     "output_type": "execute_result"
    }
   ],
   "source": [
    "### It can also Convert into numpy\n",
    "import numpy as np\n",
    "np.array(df)"
   ]
  },
  {
   "cell_type": "code",
   "execution_count": 23,
   "metadata": {},
   "outputs": [
    {
     "name": "stdout",
     "output_type": "stream",
     "text": [
      "\n",
      "DataFrame created from a NumPy array:\n",
      "    0      1\n",
      "0  25  50000\n",
      "1  30  60000\n",
      "2  35  70000\n"
     ]
    }
   ],
   "source": [
    "## We can also create a DataFrame from Numpy\n",
    "#2. From a NumPy Array\n",
    "\n",
    "import numpy as np\n",
    "\n",
    "# Creating a DataFrame from a NumPy array\n",
    "data = np.array([\n",
    "    [25, 50000],\n",
    "    [30, 60000],\n",
    "    [35, 70000]\n",
    "])\n",
    "df = pd.DataFrame(data)\n",
    "print(\"\\nDataFrame created from a NumPy array:\")\n",
    "print(df)\n",
    "\n",
    "## You can See indexing [0 ,1,...] in the following table \n",
    "## Instead of index for Columns we can give name to the index....we can in next example\n",
    "\n"
   ]
  },
  {
   "cell_type": "code",
   "execution_count": 11,
   "metadata": {},
   "outputs": [
    {
     "name": "stdout",
     "output_type": "stream",
     "text": [
      "\n",
      "DataFrame created from a NumPy array:\n",
      "   Age  Salary\n",
      "0   25   50000\n",
      "1   30   60000\n",
      "2   35   70000\n"
     ]
    }
   ],
   "source": [
    "#2. From a NumPy Array\n",
    "\n",
    "import numpy as np\n",
    "\n",
    "# Creating a DataFrame from a NumPy array\n",
    "data = np.array([\n",
    "    [25, 50000],\n",
    "    [30, 60000],\n",
    "    [35, 70000]\n",
    "])\n",
    "df = pd.DataFrame(data, columns=[\"Age\", \"Salary\"])\n",
    "print(\"\\nDataFrame created from a NumPy array:\")\n",
    "print(df)\n"
   ]
  },
  {
   "cell_type": "code",
   "execution_count": 48,
   "metadata": {},
   "outputs": [
    {
     "name": "stdout",
     "output_type": "stream",
     "text": [
      "\n",
      "DataFrame created from a list of lists:\n",
      "      Name  Age  Salary\n",
      "0    Alice   25   50000\n",
      "1      Bob   30   60000\n",
      "2  Charlie   35   70000\n"
     ]
    }
   ],
   "source": [
    "#3. From a List of Lists\n",
    "\n",
    "# Creating a DataFrame from a list of lists\n",
    "data = [\n",
    "    [\"Alice\", 25, 50000],\n",
    "    [\"Bob\", 30, 60000],\n",
    "    [\"Charlie\", 35, 70000]\n",
    "]\n",
    "columns = [\"Name\", \"Age\", \"Salary\"]\n",
    "df = pd.DataFrame(data, columns=columns)\n",
    "print(\"\\nDataFrame created from a list of lists:\")\n",
    "print(df)\n"
   ]
  },
  {
   "cell_type": "code",
   "execution_count": 30,
   "metadata": {},
   "outputs": [
    {
     "name": "stdout",
     "output_type": "stream",
     "text": [
      "0    25\n",
      "1    30\n",
      "2    35\n",
      "Name: Age, dtype: int64\n",
      "\n",
      "\n",
      "0      Alice\n",
      "1        Bob\n",
      "2    Charlie\n",
      "Name: Name, dtype: object\n",
      "\n",
      "\n",
      "0    50000\n",
      "1    60000\n",
      "2    70000\n",
      "Name: Salary, dtype: int64\n"
     ]
    },
    {
     "data": {
      "text/plain": [
       "'# THIS IS WRT ACCESING COLOUMNS\\n### For Accesing each Cloumn  from index ..in a case when we do not have Cloumn key\\nprint(df[0])  # Access the \"Age\" column\\nprint(\\'\\n\\')\\nprint(df[1])\\nprint(\\'\\n\\')\\nprint(df[2])\\n'"
      ]
     },
     "execution_count": 30,
     "metadata": {},
     "output_type": "execute_result"
    }
   ],
   "source": [
    "####### Access elements \n",
    "#Accessing Data in a DataFrame\n",
    "#Access Columns:\n",
    "\n",
    "#Use the (column name) as a key.\n",
    "# For this above example we can use (Column name ) as a key,, but if in any example we don't have (column name ) then we can use index to print and use(index) as key \n",
    "                                    # For that use example one before this \n",
    "print(df['Age'])  # Access the \"Age\" column\n",
    "print('\\n')\n",
    "print(df['Name'])\n",
    "print('\\n')\n",
    "print(df[\"Salary\"])\n",
    "\n",
    "\"\"\"# THIS IS WRT ACCESING COLOUMNS\n",
    "### For Accesing each Cloumn  from index ..in a case when we do not have Cloumn key\n",
    "print(df[0])  # Access the \"Age\" column\n",
    "print('\\n')\n",
    "print(df[1])\n",
    "print('\\n')\n",
    "print(df[2])\n",
    "\"\"\""
   ]
  },
  {
   "cell_type": "code",
   "execution_count": 42,
   "metadata": {},
   "outputs": [
    {
     "name": "stdout",
     "output_type": "stream",
     "text": [
      " The actual dataframe is \n",
      "        Name  Age  Salary\n",
      "0    Alice   25   50000\n",
      "1      Bob   30   60000\n",
      "2  Charlie   35   70000\n",
      " \n",
      " The modified dataframe is \n",
      "\n",
      "Name      Alice\n",
      "Age          25\n",
      "Salary    50000\n",
      "Name: 0, dtype: object\n",
      "\n",
      "\n",
      "Name        Bob\n",
      "Age          30\n",
      "Salary    60000\n",
      "Name: 1, dtype: object\n"
     ]
    }
   ],
   "source": [
    "#Access Rows:\n",
    "\n",
    "#Use .loc[] for label-based indexing.\n",
    "#Use .iloc[] for position-based indexing.\n",
    "print(\" The actual dataframe is \\n \",df)\n",
    "print(\" \\n The modified dataframe is \\n\")\n",
    "print(df.loc[0])  # Access the first row (label-based)\n",
    "print('\\n')\n",
    "print(df.iloc[1])  # Access the second row (position-based)\n"
   ]
  },
  {
   "cell_type": "code",
   "execution_count": 45,
   "metadata": {},
   "outputs": [
    {
     "name": "stdout",
     "output_type": "stream",
     "text": [
      " The actual dataframe is \n",
      "        Name  Age  Salary\n",
      "0    Alice   25   50000\n",
      "1      Bob   30   60000\n",
      "2  Charlie   35   70000\n",
      " \n",
      " The modified dataframe is \n",
      "\n",
      "50000\n",
      "60000\n",
      "25\n",
      "Bob\n",
      "60000\n",
      "70000\n",
      "35\n"
     ]
    }
   ],
   "source": [
    "# Access Specific Elements:\n",
    "print(\" The actual dataframe is \\n \",df)\n",
    "print(\" \\n The modified dataframe is \\n\")\n",
    "\n",
    "print(df.loc[0, \"Salary\"])  # Access \"Salary\" of the first row\n",
    "print(df.iloc[1, 2])  # Access the element at (1, 2)\n",
    "\n",
    "print(df.loc[0, \"Age\"])  # Access \"Age\" of the first row\n",
    "\n",
    "print(df.loc[1, \"Name\"])  # Access \"Name\" of the second row\n",
    "\n",
    "print(df.loc[1, \"Salary\"])  # Access \"Salary\" of the second row\n",
    "print(df.loc[2, \"Salary\"]) \n",
    "print(df.loc[2, \"Age\"])   "
   ]
  },
  {
   "cell_type": "code",
   "execution_count": 46,
   "metadata": {},
   "outputs": [
    {
     "name": "stdout",
     "output_type": "stream",
     "text": [
      "50000\n",
      "Bob\n",
      "35\n",
      "Alice\n"
     ]
    }
   ],
   "source": [
    "# Examples on Accesing the elements on diffrent position\n",
    "\n",
    "print(df.iloc[0, 2])  \n",
    "print(df.iloc[1, 0])  \n",
    "print(df.iloc[2, 1])  \n",
    "print(df.iloc[0, 0])  "
   ]
  },
  {
   "cell_type": "code",
   "execution_count": 49,
   "metadata": {},
   "outputs": [
    {
     "name": "stdout",
     "output_type": "stream",
     "text": [
      " The actual dataframe is \n",
      "        Name  Age  Salary\n",
      "0    Alice   25   50000\n",
      "1      Bob   30   60000\n",
      "2  Charlie   35   70000\n",
      " \n",
      " The modified dataframe is \n",
      "\n",
      "\n",
      "DataFrame after adding a new column:\n",
      "      Name  Age  Salary Department\n",
      "0    Alice   25   50000         HR\n",
      "1      Bob   30   60000    Finance\n",
      "2  Charlie   35   70000         IT\n"
     ]
    }
   ],
   "source": [
    "#Basic Operations on DataFrames\n",
    "#1. Adding Columns\n",
    "\n",
    "print(\" The actual dataframe is \\n \",df)\n",
    "print(\" \\n The modified dataframe is \\n\")\n",
    "\n",
    "df[\"Department\"] = [\"HR\", \"Finance\", \"IT\"]\n",
    "print(\"\\nDataFrame after adding a new column:\")\n",
    "print(df)\n"
   ]
  },
  {
   "cell_type": "code",
   "execution_count": 50,
   "metadata": {},
   "outputs": [
    {
     "name": "stdout",
     "output_type": "stream",
     "text": [
      " The actual dataframe is \n",
      "        Name  Age  Salary Department\n",
      "0    Alice   25   50000         HR\n",
      "1      Bob   30   60000    Finance\n",
      "2  Charlie   35   70000         IT\n",
      " \n",
      " The modified dataframe is \n",
      "\n",
      "\n",
      "DataFrame after adding a new row:\n",
      "      Name  Age  Salary Department\n",
      "0    Alice   25   50000         HR\n",
      "1      Bob   30   60000    Finance\n",
      "2  Charlie   35   70000         IT\n",
      "3    David   40   80000  Marketing\n"
     ]
    }
   ],
   "source": [
    "#2. Adding Rows\n",
    "\n",
    "print(\" The actual dataframe is \\n \",df)\n",
    "print(\" \\n The modified dataframe is \\n\")\n",
    "\n",
    "new_row = {\"Name\": \"David\", \"Age\": 40, \"Salary\": 80000, \"Department\": \"Marketing\"}\n",
    "df = pd.concat([df, pd.DataFrame([new_row])], ignore_index=True)\n",
    "print(\"\\nDataFrame after adding a new row:\")\n",
    "print(df)\n"
   ]
  },
  {
   "cell_type": "code",
   "execution_count": 51,
   "metadata": {},
   "outputs": [
    {
     "name": "stdout",
     "output_type": "stream",
     "text": [
      " The actual dataframe is \n",
      "        Name  Age  Salary Department\n",
      "0    Alice   25   50000         HR\n",
      "1      Bob   30   60000    Finance\n",
      "2  Charlie   35   70000         IT\n",
      "3    David   40   80000  Marketing\n",
      " \n",
      " The modified dataframe is \n",
      "\n",
      "\n",
      "DataFrame after removing a column and a row:\n",
      "      Name  Age  Salary\n",
      "0    Alice   25   50000\n",
      "1      Bob   30   60000\n",
      "2  Charlie   35   70000\n"
     ]
    }
   ],
   "source": [
    "# Removing Rows or Columns\n",
    "\n",
    "print(\" The actual dataframe is \\n \",df)\n",
    "print(\" \\n The modified dataframe is \\n\")\n",
    "\n",
    "df = df.drop(columns=[\"Department\"])  # Remove a column\n",
    "df = df.drop(index=3)  # Remove the 4th row\n",
    "print(\"\\nDataFrame after removing a column and a row:\")\n",
    "print(df)\n"
   ]
  },
  {
   "cell_type": "code",
   "execution_count": 54,
   "metadata": {},
   "outputs": [
    {
     "name": "stdout",
     "output_type": "stream",
     "text": [
      "      Name  Age  Salary\n",
      "1      Bob   30   60000\n",
      "2  Charlie   35   70000\n"
     ]
    }
   ],
   "source": [
    "### SOME ANALAYTICS FUNCTIONS \n",
    "##Data Aggregation\n",
    "\n",
    "#Perform group-by operations for summary statistics.\n",
    "\n",
    "#print(df.groupby(\"Age\").mean())  # Average salary by age\n",
    "#Data Filtering\n",
    "\n",
    "#Filter rows based on conditions.\n",
    "\n",
    "print(df[df[\"Salary\"] > 55000])  # Rows where salary > 55,000\n"
   ]
  },
  {
   "cell_type": "code",
   "execution_count": 55,
   "metadata": {},
   "outputs": [
    {
     "name": "stdout",
     "output_type": "stream",
     "text": [
      "Total sales by product:\n",
      "Product\n",
      "A    500\n",
      "B    600\n",
      "C    300\n",
      "Name: Sales, dtype: int64\n",
      "\n",
      "Average sales by region:\n",
      "Region\n",
      "East     275.0\n",
      "North    200.0\n",
      "South    225.0\n",
      "Name: Sales, dtype: float64\n"
     ]
    }
   ],
   "source": [
    "#### Example for Data Analysts\n",
    "\n",
    "# Analyzing sales data\n",
    "data = {\n",
    "    \"Product\": [\"A\", \"B\", \"A\", \"C\", \"B\", \"A\"],\n",
    "    \"Region\": [\"North\", \"South\", \"East\", \"North\", \"East\", \"South\"],\n",
    "    \"Sales\": [100, 200, 150, 300, 400, 250]\n",
    "}\n",
    "df = pd.DataFrame(data)\n",
    "\n",
    "# Total sales by product\n",
    "print(\"Total sales by product:\")\n",
    "print(df.groupby(\"Product\")[\"Sales\"].sum())\n",
    "\n",
    "# Average sales by region\n",
    "print(\"\\nAverage sales by region:\")\n",
    "print(df.groupby(\"Region\")[\"Sales\"].mean())\n"
   ]
  },
  {
   "cell_type": "markdown",
   "metadata": {},
   "source": [
    "### Important Concepts for Analysts\n",
    "Merging and Joining: Combine datasets using merge() or join().\n",
    "Pivot Tables: Summarize data using .pivot_table().\n",
    "Reshaping Data: Use .melt() and .pivot() for reshaping.\n",
    "Time Series Analysis: Analyze date/time-indexed data\""
   ]
  },
  {
   "cell_type": "code",
   "execution_count": null,
   "metadata": {},
   "outputs": [],
   "source": []
  },
  {
   "cell_type": "code",
   "execution_count": null,
   "metadata": {},
   "outputs": [],
   "source": []
  },
  {
   "cell_type": "code",
   "execution_count": null,
   "metadata": {},
   "outputs": [],
   "source": []
  },
  {
   "cell_type": "code",
   "execution_count": null,
   "metadata": {},
   "outputs": [],
   "source": []
  },
  {
   "cell_type": "code",
   "execution_count": null,
   "metadata": {},
   "outputs": [],
   "source": []
  },
  {
   "cell_type": "code",
   "execution_count": null,
   "metadata": {},
   "outputs": [],
   "source": []
  },
  {
   "cell_type": "code",
   "execution_count": null,
   "metadata": {},
   "outputs": [],
   "source": []
  },
  {
   "cell_type": "code",
   "execution_count": null,
   "metadata": {},
   "outputs": [],
   "source": []
  }
 ],
 "metadata": {
  "kernelspec": {
   "display_name": "Python 3",
   "language": "python",
   "name": "python3"
  },
  "language_info": {
   "codemirror_mode": {
    "name": "ipython",
    "version": 3
   },
   "file_extension": ".py",
   "mimetype": "text/x-python",
   "name": "python",
   "nbconvert_exporter": "python",
   "pygments_lexer": "ipython3",
   "version": "3.10.0"
  }
 },
 "nbformat": 4,
 "nbformat_minor": 2
}
