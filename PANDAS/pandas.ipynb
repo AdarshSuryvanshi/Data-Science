{
 "cells": [
  {
   "cell_type": "code",
   "execution_count": 4,
   "metadata": {},
   "outputs": [],
   "source": [
    "#  !pip install pandas\n",
    "import pandas as pd"
   ]
  },
  {
   "cell_type": "code",
   "execution_count": 10,
   "metadata": {},
   "outputs": [
    {
     "name": "stdout",
     "output_type": "stream",
     "text": [
      "0    10\n",
      "1    20\n",
      "2    30\n",
      "3    40\n",
      "dtype: int64\n"
     ]
    },
    {
     "data": {
      "text/plain": [
       "'\\nIndex: The left column (0, 1, 2, 3) represents the index.\\nValues: The right column (10, 20, 30, 40) represents the actual data.\\n'"
      ]
     },
     "execution_count": 10,
     "metadata": {},
     "output_type": "execute_result"
    }
   ],
   "source": [
    "### Diffrent ways to create a Series \n",
    "# 1)Example 1: Creating a Series from a Python List\n",
    "import pandas as pd\n",
    "\n",
    "# Creating a Series\n",
    "data = [10, 20, 30, 40]\n",
    "series = pd.Series(data) # Series() is the function used to create a series in python\n",
    "print(series)\n",
    "\n",
    "\"\"\"\n",
    "Index: The left column (0, 1, 2, 3) represents the index.\n",
    "Values: The right column (10, 20, 30, 40) represents the actual data.\n",
    "\"\"\"\n"
   ]
  },
  {
   "cell_type": "code",
   "execution_count": 8,
   "metadata": {},
   "outputs": [
    {
     "name": "stdout",
     "output_type": "stream",
     "text": [
      "a    10\n",
      "b    20\n",
      "c    30\n",
      "d    40\n",
      "dtype: int64\n"
     ]
    }
   ],
   "source": [
    "# Example 2: Creating a Series with Custom Index\n",
    "\n",
    "data = [10, 20, 30, 40]\n",
    "index = ['a', 'b', 'c', 'd']\n",
    "series = pd.Series(data, index=index)\n",
    "print(series)\n"
   ]
  },
  {
   "cell_type": "code",
   "execution_count": 9,
   "metadata": {},
   "outputs": [
    {
     "name": "stdout",
     "output_type": "stream",
     "text": [
      "a    1\n",
      "b    2\n",
      "c    3\n",
      "dtype: int64\n"
     ]
    }
   ],
   "source": [
    "#Example 3: Creating a Series from a Dictionary\n",
    "\n",
    "data = {'a': 1, 'b': 2, 'c': 3}\n",
    "series = pd.Series(data)\n",
    "print(series)"
   ]
  },
  {
   "cell_type": "code",
   "execution_count": 11,
   "metadata": {},
   "outputs": [
    {
     "name": "stdout",
     "output_type": "stream",
     "text": [
      "a    5\n",
      "b    5\n",
      "c    5\n",
      "dtype: int64\n"
     ]
    }
   ],
   "source": [
    "#Example 4: Creating a Series with Scalar Value\n",
    "\n",
    "series = pd.Series(5, index=['a', 'b', 'c'])\n",
    "print(series)"
   ]
  },
  {
   "cell_type": "code",
   "execution_count": 16,
   "metadata": {},
   "outputs": [
    {
     "name": "stdout",
     "output_type": "stream",
     "text": [
      "5\n",
      "5\n",
      "5\n",
      "5\n"
     ]
    },
    {
     "name": "stderr",
     "output_type": "stream",
     "text": [
      "C:\\Users\\Adarsh\\AppData\\Local\\Temp\\ipykernel_19216\\3455131286.py:3: FutureWarning: Series.__getitem__ treating keys as positions is deprecated. In a future version, integer keys will always be treated as labels (consistent with DataFrame behavior). To access a value by position, use `ser.iloc[pos]`\n",
      "  print(series[0])  # Output: 5\n",
      "C:\\Users\\Adarsh\\AppData\\Local\\Temp\\ipykernel_19216\\3455131286.py:4: FutureWarning: Series.__getitem__ treating keys as positions is deprecated. In a future version, integer keys will always be treated as labels (consistent with DataFrame behavior). To access a value by position, use `ser.iloc[pos]`\n",
      "  print(series[2])\n"
     ]
    }
   ],
   "source": [
    "## Aceesing data in a serires\n",
    "# This is a example of Accessing by position \n",
    "print(series[0])  # Output: 5\n",
    "print(series[2])\n",
    "\n",
    "# This is a example of Accesing by index \n",
    "print(series['a'])\n",
    "print(series['c'])\n"
   ]
  },
  {
   "cell_type": "code",
   "execution_count": 18,
   "metadata": {},
   "outputs": [
    {
     "name": "stdout",
     "output_type": "stream",
     "text": [
      "a    5\n",
      "b    5\n",
      "dtype: int64\n"
     ]
    }
   ],
   "source": [
    "# Example 3: Slicing\n",
    "print(series[:2])   # Here (2) is the stoping condition so..stoping is exclusive(will not consider) so 0 and 1tak ke  index hi sirf print honge\n",
    "\n",
    "## SLICING :- Slicing is same as the we see in numpy..concept is same \n"
   ]
  },
  {
   "cell_type": "code",
   "execution_count": 30,
   "metadata": {},
   "outputs": [
    {
     "name": "stdout",
     "output_type": "stream",
     "text": [
      " The actuall seirres is\n",
      " 0    1\n",
      "1    2\n",
      "2    3\n",
      "3    4\n",
      "dtype: int64\n",
      "The modified serires is after adding 10 to eeach element \n",
      " 0    11\n",
      "1    12\n",
      "2    13\n",
      "3    14\n",
      "dtype: int64\n",
      "\n",
      "\n",
      "0    Darash\n",
      "1         a\n",
      "2      25.5\n",
      "3        54\n",
      "dtype: object\n"
     ]
    },
    {
     "data": {
      "text/plain": [
       "'\\nExplanation:\\nMixed Types: The Series can hold data of different types. In this case:\\n\\nThe first element (\"Darash\") is a string.\\nThe second element (\\'a\\') is also a string (a single character).\\nThe third element (25.5) is a float.\\nThe fourth element (54) is an integer.\\ndtype: When there are mixed types, the dtype of the Series becomes object, which is the most generic type in Pandas and can accommodate mixed types.\\n\\nIndexing: Each element has a positional index (0, 1, 2, 3) assigned automatically.\\n\\nThis flexibility makes Series a versatile data structure in Pandas. However, (\"if you\\'re working with numerical operations, it\\'s better to avoid mixing types, \")as it might lead to unexpected behavior or slower performance. Let me know if you\\'d like to explore more! 😊\\n\\n'"
      ]
     },
     "execution_count": 30,
     "metadata": {},
     "output_type": "execute_result"
    }
   ],
   "source": [
    "##  4. Operations on a Series\n",
    "#Pandas Series supports vectorized operations, making it very efficient for numerical computations.\n",
    "\n",
    "#Example 1: Arithmetic Operations\n",
    "\n",
    "print(\" The actuall seirres is\\n\",series)\n",
    "\n",
    "data = [1, 2, 3, 4]\n",
    "series = pd.Series(data)\n",
    "print(\"The modified serires is after adding 10 to eeach element \\n\",series + 10)  # Adds 10 to each element\n",
    "print('\\n')\n",
    "\n",
    "data2=[\"Darash\",'a',25.5,54]\n",
    "series2 = pd.Series(data2)\n",
    "print(series2)\n",
    "\n",
    "## Explanation about serires in Pandas \n",
    "\"\"\"\n",
    "Explanation:\n",
    "Mixed Types: The Series can hold data of different types. In this case:\n",
    "\n",
    "The first element (\"Darash\") is a string.\n",
    "The second element ('a') is also a string (a single character).\n",
    "The third element (25.5) is a float.\n",
    "The fourth element (54) is an integer.\n",
    "dtype: When there are mixed types, the dtype of the Series becomes object, which is the most generic type in Pandas and can accommodate mixed types.\n",
    "\n",
    "Indexing: Each element has a positional index (0, 1, 2, 3) assigned automatically.\n",
    "\n",
    "This flexibility makes Series a versatile data structure in Pandas. However, (\"if you're working with numerical operations, it's better to avoid mixing types, \")as it might lead to unexpected behavior or slower performance. Let me know if you'd like to explore more! 😊\n",
    "\n",
    "\"\"\"\n",
    "\n"
   ]
  },
  {
   "cell_type": "code",
   "execution_count": 27,
   "metadata": {},
   "outputs": [
    {
     "name": "stdout",
     "output_type": "stream",
     "text": [
      " The actuall seirres is\n",
      " 0    1\n",
      "1    2\n",
      "2    3\n",
      "3    4\n",
      "dtype: int64\n",
      "The moidfied  serires is\n",
      " 0    2\n",
      "1    4\n",
      "2    6\n",
      "3    8\n",
      "dtype: int64\n"
     ]
    }
   ],
   "source": [
    "##  4. Operations on a Series\n",
    "#Pandas Series supports vectorized operations, making it very efficient for numerical computations.\n",
    "print(\" The actuall seirres is\\n\",series)\n",
    "#Example 2: Element-wise Operations\n",
    "print(\"The moidfied  serires is\\n\",series * 2)  # Multiplies each element by 2\n"
   ]
  },
  {
   "cell_type": "code",
   "execution_count": 33,
   "metadata": {},
   "outputs": [
    {
     "name": "stdout",
     "output_type": "stream",
     "text": [
      "The mean of the given dataset is 34.714285714285715\n",
      "The Sum of the given dataset is 243\n",
      "The max  of the from given  dataset is 61\n"
     ]
    }
   ],
   "source": [
    "#Example 3: Statistical Operations\n",
    "\n",
    "data3=[10,20,58,61,48,10,36]\n",
    "series=pd.Series(data3)\n",
    "print(\"The mean of the given dataset is\",series.mean())  # Average value\n",
    "print(\"The Sum of the given dataset is\",series.sum())   # Sum of all values\n",
    "print(\"The max  of the from given  dataset is\",series.max())   # Maximum value\n"
   ]
  },
  {
   "cell_type": "code",
   "execution_count": 40,
   "metadata": {},
   "outputs": [
    {
     "name": "stdout",
     "output_type": "stream",
     "text": [
      "0    False\n",
      "1    False\n",
      "2     True\n",
      "3    False\n",
      "dtype: bool\n"
     ]
    },
    {
     "data": {
      "text/plain": [
       "'\\nPandas Series is an essential tool for data analysts due to the following reasons:\\n\\nEase of Handling Data: It allows intuitive indexing and slicing.\\nIntegration with Other Libraries: Works seamlessly with NumPy, Matplotlib, and other Python libraries.\\nPerformance: Supports vectorized operations for fast computations.\\nRich Functionality: Provides built-in methods like mean(), std(), and value_counts().\\n\\n'"
      ]
     },
     "execution_count": 40,
     "metadata": {},
     "output_type": "execute_result"
    }
   ],
   "source": [
    "#6. Common Use Cases for Data Analysts\n",
    "#Here’s how a Series is used in real-world data analysis:\n",
    "\n",
    "#Use Case 1: Data Cleaning\n",
    "\n",
    "data = [10, 20, None, 30]\n",
    "series = pd.Series(data)\n",
    "print(series.isnull())  # Checks for missing values\n",
    "\n",
    "\n",
    "## This Expanation is regarding why serires is imp in data Anyalasts\n",
    "\"\"\"\n",
    "Pandas Series is an essential tool for data analysts due to the following reasons:\n",
    "\n",
    "Ease of Handling Data: It allows intuitive indexing and slicing.\n",
    "Integration with Other Libraries: Works seamlessly with NumPy, Matplotlib, and other Python libraries.\n",
    "Performance: Supports vectorized operations for fast computations.\n",
    "Rich Functionality: Provides built-in methods like mean(), std(), and value_counts().\n",
    "\n",
    "\"\"\""
   ]
  },
  {
   "cell_type": "code",
   "execution_count": 36,
   "metadata": {},
   "outputs": [
    {
     "name": "stdout",
     "output_type": "stream",
     "text": [
      "60.0\n"
     ]
    }
   ],
   "source": [
    "#Use Case 2: Aggregation\n",
    "print(series.sum())  # Sums the values, skipping None"
   ]
  },
  {
   "cell_type": "code",
   "execution_count": 37,
   "metadata": {},
   "outputs": [
    {
     "name": "stdout",
     "output_type": "stream",
     "text": [
      "1    20.0\n",
      "3    30.0\n",
      "dtype: float64\n"
     ]
    }
   ],
   "source": [
    "#Use Case 3: Filtering Data\n",
    "print(series[series > 15])  # Filters elements greater than 15\n"
   ]
  },
  {
   "cell_type": "code",
   "execution_count": 41,
   "metadata": {},
   "outputs": [
    {
     "name": "stdout",
     "output_type": "stream",
     "text": [
      "Total Sales: 3500\n",
      "Average Sales: 500.0\n",
      "Days with Above Average Sales:\n",
      " This are the sales above avaerage Fri    600\n",
      "Sat    700\n",
      "Sun    800\n",
      "dtype: int64\n"
     ]
    },
    {
     "data": {
      "text/plain": [
       "'\\n8. Advanced Topics for Data Analysts\\nTime Series Data: Series is heavily used to analyze time-indexed data.\\nFeature Engineering: Creating new features based on Series operations.\\nData Visualization: Plotting Series data directly using Matplotlib or Seaborn.\\n\\n9. Efficiency and Performance\\nStorage: Series is memory-efficient compared to native Python lists.\\nSpeed: Built on top of NumPy, it leverages C for computational efficiency.\\nScalability: Handles large datasets efficiently with its built-in method\\n'"
      ]
     },
     "execution_count": 41,
     "metadata": {},
     "output_type": "execute_result"
    }
   ],
   "source": [
    "#Example: Data Analysis with Series\n",
    "#Problem:\n",
    "#Analyze the sales data for a week and find the total sales, average sales, and days with sales above average.\n",
    "\n",
    "\n",
    "data = [200, 300, 400, 500, 600, 700, 800]\n",
    "days = ['Mon', 'Tue', 'Wed', 'Thu', 'Fri', 'Sat', 'Sun']\n",
    "sales = pd.Series(data, index=days)\n",
    "\n",
    "# Total Sales\n",
    "total_sales = sales.sum()\n",
    "\n",
    "# Average Sales\n",
    "average_sales = sales.mean()\n",
    "\n",
    "# Median  Sales\n",
    "average_sales = sales.median()\n",
    "\n",
    "# Days with Sales Above Average\n",
    "above_average = sales[sales > average_sales]\n",
    "\n",
    "print(f\"Total Sales: {total_sales}\")\n",
    "print(f\"Average Sales: {average_sales}\")\n",
    "print(\"Days with Above Average Sales:\")\n",
    "print(\" This are the sales above avaerage\",above_average)\n",
    "\n",
    "\n",
    "## This Expanation is regarding why serires is imp in data Anyalasts\n",
    "\"\"\"\n",
    "8. Advanced Topics for Data Analysts\n",
    "Time Series Data: Series is heavily used to analyze time-indexed data.\n",
    "Feature Engineering: Creating new features based on Series operations.\n",
    "Data Visualization: Plotting Series data directly using Matplotlib or Seaborn.\n",
    "\n",
    "9. Efficiency and Performance\n",
    "Storage: Series is memory-efficient compared to native Python lists.\n",
    "Speed: Built on top of NumPy, it leverages C for computational efficiency.\n",
    "Scalability: Handles large datasets efficiently with its built-in method\n",
    "\"\"\""
   ]
  },
  {
   "cell_type": "markdown",
   "metadata": {},
   "source": [
    " ### Conclusion\n",
    "The Pandas Series is an indispensable tool for data manipulation and analysis. It combines the simplicity of a Python list with the power of NumPy arrays and the flexibility of a dictionary. Whether you're cleaning data, performing calculations, or analyzing trends, the Series is your go-to data structure.\n",
    "\n"
   ]
  },
  {
   "cell_type": "code",
   "execution_count": 42,
   "metadata": {},
   "outputs": [
    {
     "name": "stdout",
     "output_type": "stream",
     "text": [
      "1. Series with mixed data types:\n",
      "0    Darash\n",
      "1         a\n",
      "2      25.5\n",
      "3        54\n",
      "dtype: object\n",
      "Data type: object\n",
      "--------------------------------------------------\n",
      "2. Handling missing data:\n",
      "Original Series:\n",
      "0    10.0\n",
      "1     NaN\n",
      "2    30.0\n",
      "3     NaN\n",
      "dtype: float64\n",
      "Identifying missing values using isnull():\n",
      "0    False\n",
      "1     True\n",
      "2    False\n",
      "3     True\n",
      "dtype: bool\n",
      "Filling missing values with 0 using fillna():\n",
      "0    10.0\n",
      "1     0.0\n",
      "2    30.0\n",
      "3     0.0\n",
      "dtype: float64\n",
      "Dropping missing values using dropna():\n",
      "0    10.0\n",
      "2    30.0\n",
      "dtype: float64\n",
      "--------------------------------------------------\n",
      "3. Sorting:\n",
      "Original Series:\n",
      "b    50\n",
      "a    20\n",
      "c    40\n",
      "dtype: int64\n",
      "Sorted by index:\n",
      "a    20\n",
      "b    50\n",
      "c    40\n",
      "dtype: int64\n",
      "Sorted by values:\n",
      "a    20\n",
      "c    40\n",
      "b    50\n",
      "dtype: int64\n",
      "--------------------------------------------------\n",
      "4. Filtering using conditions:\n",
      "Original Series:\n",
      "0    10\n",
      "1    20\n",
      "2    30\n",
      "3    40\n",
      "dtype: int64\n",
      "Values greater than 25:\n",
      "2    30\n",
      "3    40\n",
      "dtype: int64\n",
      "--------------------------------------------------\n",
      "5. Applying functions:\n",
      "Original Series:\n",
      "0    1\n",
      "1    2\n",
      "2    3\n",
      "3    4\n",
      "dtype: int64\n",
      "Applying a lambda function to square each element:\n",
      "0     1\n",
      "1     4\n",
      "2     9\n",
      "3    16\n",
      "dtype: int64\n",
      "--------------------------------------------------\n",
      "6. Value counts and unique values:\n",
      "Original Series:\n",
      "0    1\n",
      "1    2\n",
      "2    2\n",
      "3    3\n",
      "4    3\n",
      "5    3\n",
      "dtype: int64\n",
      "Value counts (frequency of each value):\n",
      "3    3\n",
      "2    2\n",
      "1    1\n",
      "Name: count, dtype: int64\n",
      "Unique values:\n",
      "[1 2 3]\n",
      "--------------------------------------------------\n",
      "7. String operations:\n",
      "Original Series:\n",
      "0     Apple\n",
      "1    Banana\n",
      "2    Cherry\n",
      "dtype: object\n",
      "Converting strings to lowercase:\n",
      "0     apple\n",
      "1    banana\n",
      "2    cherry\n",
      "dtype: object\n",
      "Checking if strings start with 'A':\n",
      "0     True\n",
      "1    False\n",
      "2    False\n",
      "dtype: bool\n",
      "--------------------------------------------------\n",
      "8. Mathematical operations:\n",
      "Original Series:\n",
      "0    1\n",
      "1    2\n",
      "2    3\n",
      "dtype: int64\n",
      "Adding 10 to each element:\n",
      "0    11\n",
      "1    12\n",
      "2    13\n",
      "dtype: int64\n",
      "Multiplying each element by 2:\n",
      "0    2\n",
      "1    4\n",
      "2    6\n",
      "dtype: int64\n",
      "--------------------------------------------------\n",
      "9. Index alignment:\n",
      "Series A:\n",
      "a    1\n",
      "b    2\n",
      "dtype: int64\n",
      "Series B:\n",
      "b    3\n",
      "c    4\n",
      "dtype: int64\n",
      "Adding Series A and Series B (automatic index alignment):\n",
      "a    NaN\n",
      "b    5.0\n",
      "c    NaN\n",
      "dtype: float64\n",
      "--------------------------------------------------\n",
      "10. Time series example:\n",
      "Time Series:\n",
      "2023-01-01    100\n",
      "2023-01-02    200\n",
      "2023-01-03    150\n",
      "2023-01-04    300\n",
      "2023-01-05    250\n",
      "Freq: D, dtype: int64\n",
      "Total sales: 1000\n",
      "Average sales: 200.0\n"
     ]
    }
   ],
   "source": [
    "\"\"\" SUmmary About series\"\"\"\n",
    "\n",
    "# Importing the Pandas library\n",
    "import pandas as pd\n",
    "\n",
    "# 1. Creating a Series with mixed data types\n",
    "data1 = [\"Darash\", 'a', 25.5, 54]\n",
    "series1 = pd.Series(data1)\n",
    "print(\"1. Series with mixed data types:\")\n",
    "print(series1)\n",
    "print(\"Data type:\", series1.dtype)  # Output: dtype: object\n",
    "print(\"-\" * 50)\n",
    "\n",
    "# 2. Handling missing data\n",
    "data2 = [10, None, 30, None]\n",
    "series2 = pd.Series(data2)\n",
    "print(\"2. Handling missing data:\")\n",
    "print(\"Original Series:\")\n",
    "print(series2)\n",
    "print(\"Identifying missing values using isnull():\")\n",
    "print(series2.isnull())  # Boolean values for missing data\n",
    "print(\"Filling missing values with 0 using fillna():\")\n",
    "print(series2.fillna(0))  # Replace NaN with 0\n",
    "print(\"Dropping missing values using dropna():\")\n",
    "print(series2.dropna())  # Removes NaN\n",
    "print(\"-\" * 50)\n",
    "\n",
    "# 3. Sorting\n",
    "data3 = [50, 20, 40]\n",
    "index3 = ['b', 'a', 'c']\n",
    "series3 = pd.Series(data3, index=index3)\n",
    "print(\"3. Sorting:\")\n",
    "print(\"Original Series:\")\n",
    "print(series3)\n",
    "print(\"Sorted by index:\")\n",
    "print(series3.sort_index())  # Sort by index\n",
    "print(\"Sorted by values:\")\n",
    "print(series3.sort_values())  # Sort by values\n",
    "print(\"-\" * 50)\n",
    "\n",
    "# 4. Filtering using conditions\n",
    "data4 = [10, 20, 30, 40]\n",
    "series4 = pd.Series(data4)\n",
    "print(\"4. Filtering using conditions:\")\n",
    "print(\"Original Series:\")\n",
    "print(series4)\n",
    "print(\"Values greater than 25:\")\n",
    "print(series4[series4 > 25])  # Filter values greater than 25\n",
    "print(\"-\" * 50)\n",
    "\n",
    "# 5. Applying functions\n",
    "data5 = [1, 2, 3, 4]\n",
    "series5 = pd.Series(data5)\n",
    "print(\"5. Applying functions:\")\n",
    "print(\"Original Series:\")\n",
    "print(series5)\n",
    "print(\"Applying a lambda function to square each element:\")\n",
    "print(series5.apply(lambda x: x**2))  # Square each element\n",
    "print(\"-\" * 50)\n",
    "\n",
    "# 6. Value counts and unique values\n",
    "data6 = [1, 2, 2, 3, 3, 3]\n",
    "series6 = pd.Series(data6)\n",
    "print(\"6. Value counts and unique values:\")\n",
    "print(\"Original Series:\")\n",
    "print(series6)\n",
    "print(\"Value counts (frequency of each value):\")\n",
    "print(series6.value_counts())  # Frequency of each value\n",
    "print(\"Unique values:\")\n",
    "print(series6.unique())  # Unique values\n",
    "print(\"-\" * 50)\n",
    "\n",
    "# 7. String operations\n",
    "data7 = [\"Apple\", \"Banana\", \"Cherry\"]\n",
    "series7 = pd.Series(data7)\n",
    "print(\"7. String operations:\")\n",
    "print(\"Original Series:\")\n",
    "print(series7)\n",
    "print(\"Converting strings to lowercase:\")\n",
    "print(series7.str.lower())  # Convert to lowercase\n",
    "print(\"Checking if strings start with 'A':\")\n",
    "print(series7.str.startswith('A'))  # Boolean for strings starting with 'A'\n",
    "print(\"-\" * 50)\n",
    "\n",
    "# 8. Mathematical operations\n",
    "data8 = [1, 2, 3]\n",
    "series8 = pd.Series(data8)\n",
    "print(\"8. Mathematical operations:\")\n",
    "print(\"Original Series:\")\n",
    "print(series8)\n",
    "print(\"Adding 10 to each element:\")\n",
    "print(series8 + 10)  # Add 10 to each element\n",
    "print(\"Multiplying each element by 2:\")\n",
    "print(series8 * 2)  # Multiply each element by 2\n",
    "print(\"-\" * 50)\n",
    "\n",
    "# 9. Index alignment\n",
    "series9_a = pd.Series([1, 2], index=['a', 'b'])\n",
    "series9_b = pd.Series([3, 4], index=['b', 'c'])\n",
    "print(\"9. Index alignment:\")\n",
    "print(\"Series A:\")\n",
    "print(series9_a)\n",
    "print(\"Series B:\")\n",
    "print(series9_b)\n",
    "print(\"Adding Series A and Series B (automatic index alignment):\")\n",
    "print(series9_a + series9_b)\n",
    "print(\"-\" * 50)\n",
    "\n",
    "# 10. Time series example (useful for Data Analysts)\n",
    "dates = pd.date_range('2023-01-01', periods=5)  # Create date range\n",
    "data10 = [100, 200, 150, 300, 250]\n",
    "series10 = pd.Series(data10, index=dates)\n",
    "print(\"10. Time series example:\")\n",
    "print(\"Time Series:\")\n",
    "print(series10)\n",
    "print(\"Total sales:\", series10.sum())  # Calculate total sales\n",
    "print(\"Average sales:\", series10.mean())  # Calculate average sales\n"
   ]
  },
  {
   "cell_type": "code",
   "execution_count": null,
   "metadata": {},
   "outputs": [],
   "source": []
  },
  {
   "cell_type": "code",
   "execution_count": null,
   "metadata": {},
   "outputs": [],
   "source": []
  }
 ],
 "metadata": {
  "kernelspec": {
   "display_name": "Python 3",
   "language": "python",
   "name": "python3"
  },
  "language_info": {
   "codemirror_mode": {
    "name": "ipython",
    "version": 3
   },
   "file_extension": ".py",
   "mimetype": "text/x-python",
   "name": "python",
   "nbconvert_exporter": "python",
   "pygments_lexer": "ipython3",
   "version": "3.10.0"
  }
 },
 "nbformat": 4,
 "nbformat_minor": 2
}
