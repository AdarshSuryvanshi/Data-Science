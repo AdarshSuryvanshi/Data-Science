{
 "cells": [
  {
   "cell_type": "code",
   "execution_count": 2,
   "metadata": {},
   "outputs": [
    {
     "name": "stdout",
     "output_type": "stream",
     "text": [
      "Requirement already satisfied: numpy in d:\\pythoncode\\venv\\lib\\site-packages (2.2.0)\n"
     ]
    }
   ],
   "source": [
    "!pip install numpy"
   ]
  },
  {
   "cell_type": "code",
   "execution_count": 7,
   "metadata": {},
   "outputs": [
    {
     "name": "stdout",
     "output_type": "stream",
     "text": [
      "Python list memory: 104 bytes\n",
      "NumPy array memory: 32 bytes\n"
     ]
    }
   ],
   "source": [
    "\"\"\"import numpy as np\n",
    "arr1= np.array([1,2,3,4])\n",
    "print(arr1)\n",
    "print(arr1.dtype)\n",
    "\"\"\"\n",
    "\n",
    "import numpy as np\n",
    "\n",
    "# Python list\n",
    "py_list = [1, 2, 3, 4]\n",
    "print(f\"Python list memory: {py_list.__sizeof__()} bytes\")\n",
    "\n",
    "# NumPy array\n",
    "np_array = np.array([1, 2, 3, 4])\n",
    "print(f\"NumPy array memory: {np_array.nbytes} bytes\")\n",
    "\n",
    "## You see the diffrence between both the storage\n"
   ]
  },
  {
   "cell_type": "code",
   "execution_count": 8,
   "metadata": {},
   "outputs": [
    {
     "name": "stdout",
     "output_type": "stream",
     "text": [
      "Python list memory: 104 bytes\n",
      "NumPy array memory: 640 bytes\n"
     ]
    }
   ],
   "source": [
    "import numpy as np\n",
    "\n",
    "# Python list\n",
    "py_list = [1, \"Darsh\", 3.5, 4,'a']\n",
    "print(f\"Python list memory: {py_list.__sizeof__()} bytes\")\n",
    "\n",
    "# NumPy array\n",
    "np_array = np.array([1, \"Darsh\", 3.5, 4,'a'])\n",
    "print(f\"NumPy array memory: {np_array.nbytes} bytes\")"
   ]
  },
  {
   "cell_type": "code",
   "execution_count": 12,
   "metadata": {},
   "outputs": [
    {
     "name": "stdout",
     "output_type": "stream",
     "text": [
      "Numpy array memory for Same data types memory: 640 bytes\n",
      "Numpy array memory for mixed  data types memory: 640 bytes\n"
     ]
    }
   ],
   "source": [
    "import numpy as np\n",
    "\n",
    "# NumPy array\n",
    "py_list = np.array([1,2,3,4,5])\n",
    "print(f\"Numpy array memory for Same data types memory: {np_array.nbytes} bytes\")\n",
    "\n",
    "# NumPy array\n",
    "np_array = np.array([1, \"Darsh\", 3.5, 4,'a'])\n",
    "print(f\"Numpy array memory for mixed  data types memory: {np_array.nbytes} bytes\")"
   ]
  },
  {
   "cell_type": "code",
   "execution_count": 13,
   "metadata": {},
   "outputs": [
    {
     "name": "stdout",
     "output_type": "stream",
     "text": [
      "Python list memory same data types: 104 bytes\n",
      "Python list memory mixed data types  104 bytes\n"
     ]
    }
   ],
   "source": [
    "import numpy as np\n",
    "\n",
    "# Python list\n",
    "py_list = [1, 2, 3, 4]\n",
    "print(f\"Python list memory same data types: {py_list.__sizeof__()} bytes\")\n",
    "\n",
    "# Pyhton List\n",
    "py_list = [1, \"Darsh\", 3.5, 4,'a']\n",
    "print(f\"Python list memory mixed data types  {py_list.__sizeof__()} bytes\")\n"
   ]
  },
  {
   "cell_type": "code",
   "execution_count": 15,
   "metadata": {},
   "outputs": [],
   "source": [
    "\"\"\"\n",
    "6. Built-in Functions:\n",
    "NumPy Array: Provides a rich set of mathematical and statistical functions such as np.mean(), np.median(), np.std(), etc.,\n",
    " directly on arrays, making complex operations simple.\n",
    "\n",
    "Python List: Lacks built-in mathematical functions. You need to import modules \n",
    "like math or statistics to perform similar operations on lists.\n",
    "\n",
    "\"\"\"\n",
    "\n",
    "np_array = np.array([1, 2, 3, 4])\n",
    "mean = np.mean(np_array)  # Built-in function\n",
    "\n",
    "py_list = [1, 2, 3, 4]\n",
    "mean = sum(py_list) / len(py_list)  # Manual calculation\n",
    "\n",
    "\n",
    "## like this many more there \n"
   ]
  },
  {
   "cell_type": "code",
   "execution_count": 16,
   "metadata": {},
   "outputs": [
    {
     "name": "stdout",
     "output_type": "stream",
     "text": [
      "[1, 2, 3, 4]\n",
      "[1, 2, 3, 4]\n"
     ]
    }
   ],
   "source": [
    "\"\"\"\n",
    " EXPAIN \"Refrence pointing method\" :\n",
    "\n",
    " Reference Pointer Method in Python:\n",
    "In Python, all variables refer to objects in memory by reference. When you assign one variable to another, you're simply creating a reference (or pointer) to the same object in memory. This behavior is distinct from copying data directly, and it applies to most mutable objects like lists, dictionaries, and NumPy arrays.\n",
    "\n",
    "How Reference Works:\n",
    "When you assign one variable to another, Python doesn't create a new copy of the object;\n",
    " instead, it just points to the original object.\n",
    "Any changes made to the object via one variable will be reflected in all other variables that\n",
    " reference the same object.\n",
    "\n",
    "\"\"\"\n",
    "\n",
    "# Example of reference behavior in Python\n",
    "a = [1, 2, 3]  # 'a' is a reference to the list [1, 2, 3]\n",
    "b = a  # 'b' now references the same list as 'a'\n",
    "\n",
    "b.append(4)  # Modify the list via 'b'\n",
    "\n",
    "print(a)  # Output: [1, 2, 3, 4]\n",
    "print(b)  # Output: [1, 2, 3, 4]\n",
    "\n"
   ]
  },
  {
   "cell_type": "code",
   "execution_count": 17,
   "metadata": {},
   "outputs": [
    {
     "name": "stdout",
     "output_type": "stream",
     "text": [
      "['1' '2.5' 'Hello']\n",
      "<U32\n"
     ]
    }
   ],
   "source": [
    "\"\"\"\n",
    "3. Automatic Type Upcasting\n",
    "Rule: If array elements have different types, NumPy upcasts them to a common, more general type.\n",
    "Reason: Ensures that the array remains homogeneous\n",
    "\"\"\"\n",
    "arr = np.array([1, 2.5, \"Hello\"])  # Mixed types\n",
    "print(arr)  # Output: ['1' '2.5' 'Hello']\n",
    "print(arr.dtype)  # Output: <U5 (Unicode string)>\n"
   ]
  },
  {
   "cell_type": "code",
   "execution_count": 18,
   "metadata": {},
   "outputs": [],
   "source": [
    "\"\"\"\n",
    "4. Fixed Size\n",
    "Rule: A NumPy array's size is fixed at the time of creation.\n",
    "Reason: Enhances computational efficiency by allocating memory only once.\n",
    "\n",
    "\"\"\"\n",
    "arr = np.array([1, 2, 3])\n",
    "arr[0] = 10  # Allowed (modifying value)\n",
    "# arr.append(4)  # Not allowed, raises AttributeError\n"
   ]
  },
  {
   "cell_type": "code",
   "execution_count": 20,
   "metadata": {},
   "outputs": [
    {
     "name": "stdout",
     "output_type": "stream",
     "text": [
      "[3 4 5]\n",
      "[-1  0  1]\n",
      "[2 4 6]\n",
      "[0.5 1.  1.5]\n"
     ]
    }
   ],
   "source": [
    "\"\"\"\n",
    "5. Broadcasting Rules\n",
    "Rule: Arrays of different shapes can operate together if their shapes are compatible.\n",
    "Reason: Simplifies mathematical operations without needing explicit loops.\n",
    "\"\"\"\n",
    "a = np.array([1, 2, 3])\n",
    "b = 2\n",
    "print(a + b)  # Output: [3 4 5] (scalar b is broadcast)\n",
    "print(a - b)  \n",
    "print(a * b) \n",
    "print(a / b)   \n"
   ]
  },
  {
   "cell_type": "code",
   "execution_count": 47,
   "metadata": {},
   "outputs": [
    {
     "name": "stdout",
     "output_type": "stream",
     "text": [
      "[[ 3  4  5]\n",
      " [ 3 27 67]\n",
      " [17 27 98]]\n",
      "[[-1  0  1]\n",
      " [-1 23 63]\n",
      " [13 23 94]]\n",
      "[[  2   4   6]\n",
      " [  2  50 130]\n",
      " [ 30  50 192]]\n",
      "[[ 0.5  1.   1.5]\n",
      " [ 0.5 12.5 32.5]\n",
      " [ 7.5 12.5 48. ]]\n"
     ]
    }
   ],
   "source": [
    "a = np.array([[1, 2, 3],[1,25,65],[15,25,96]])\n",
    "b = 2\n",
    "print(a + b)  # Output: [3 4 5] (scalar b is broadcast)\n",
    "print(a - b)  \n",
    "print(a * b) \n",
    "print(a / b)   "
   ]
  },
  {
   "cell_type": "code",
   "execution_count": 22,
   "metadata": {},
   "outputs": [
    {
     "name": "stdout",
     "output_type": "stream",
     "text": [
      "10\n"
     ]
    }
   ],
   "source": [
    "\"\"\"\n",
    "6. Zero-Based Indexing\n",
    "Rule: NumPy arrays use zero-based indexing, like Python lists.\n",
    "Reason: Consistency with Python’s standard indexing.\n",
    "\"\"\"\n",
    "\n",
    "arr = np.array([10, 20, 30])\n",
    "print(arr[0])  # Output: 10\n"
   ]
  },
  {
   "cell_type": "code",
   "execution_count": 23,
   "metadata": {},
   "outputs": [
    {
     "name": "stdout",
     "output_type": "stream",
     "text": [
      "[10  2  3]\n"
     ]
    }
   ],
   "source": [
    "\"\"\"\n",
    "7. Slicing Returns Views, Not Copies\n",
    "Rule: Slicing an array returns a view (not a copy) of the original array.\n",
    "Reason: Saves memory and speeds up operations.\n",
    "\n",
    "\"\"\"\n",
    "arr = np.array([1, 2, 3])\n",
    "sliced = arr[0:2]\n",
    "sliced[0] = 10\n",
    "print(arr)  # Output: [10  2  3] (original array modified)\n",
    "\n"
   ]
  },
  {
   "cell_type": "code",
   "execution_count": 27,
   "metadata": {},
   "outputs": [
    {
     "name": "stdout",
     "output_type": "stream",
     "text": [
      "[10  2  3]\n",
      "[10  2]\n"
     ]
    }
   ],
   "source": [
    "arr = np.array([1, 2, 3])\n",
    "sliced = arr[0:2]\n",
    "sliced[0] = 10\n",
    "print(arr)  # Output: [10  2  3] (original array modified)\n",
    "print(sliced)   # This is the slced array\n"
   ]
  },
  {
   "cell_type": "code",
   "execution_count": 28,
   "metadata": {},
   "outputs": [
    {
     "name": "stdout",
     "output_type": "stream",
     "text": [
      "[[1 2]\n",
      " [3 4]]\n"
     ]
    }
   ],
   "source": [
    "\"\"\"\n",
    "8. Immutable Shape\n",
    "Rule: The shape of a NumPy array cannot be changed after creation without creating a new array.\n",
    "Reason: Maintains memory structure integrity.\n",
    "\n",
    "\"\"\"\n",
    "arr = np.array([1, 2, 3, 4])\n",
    "reshaped = arr.reshape(2, 2)  # Creates a new array with the desired shape\n",
    "print(reshaped)\n"
   ]
  },
  {
   "cell_type": "code",
   "execution_count": null,
   "metadata": {},
   "outputs": [],
   "source": [
    "\"\"\"\n",
    "9. Element-Wise Operations\n",
    "Rule: Arithmetic operations on NumPy arrays are performed element-wise.\n",
    "Reason: Supports efficient mathematical computations.\n",
    "\n",
    "\"\"\"\n",
    "a = np.array([1, 2, 3])\n",
    "b = np.array([4, 5, 6])\n",
    "print(a + b)  # Output: [5 7 9]\n",
    "print(a - b) \n",
    "print(a * b) \n",
    "print(a / b) \n"
   ]
  },
  {
   "cell_type": "code",
   "execution_count": 33,
   "metadata": {},
   "outputs": [
    {
     "name": "stdout",
     "output_type": "stream",
     "text": [
      "['1a' '25' 'a6' 'AdarsgAnil' '2.5205' '50.5afsv' '452.5']\n"
     ]
    }
   ],
   "source": [
    "a = np.array([1, 2, 'a',\"Adarsg\",2.5,50.5,45])\n",
    "b = np.array(['a', 5, 6,\"Anil\",205,'afsv',2.5])\n",
    "print(a + b)\n",
    "\n",
    "## If Numpy_array is of Mixed data type then it will convert into Strings and do the operation in Strings \n"
   ]
  },
  {
   "cell_type": "code",
   "execution_count": 35,
   "metadata": {},
   "outputs": [
    {
     "name": "stdout",
     "output_type": "stream",
     "text": [
      "[[  5   7   9  29]\n",
      " [ 16 130 183  94]]\n",
      "[[ -3  -3  -3   1]\n",
      " [-12 -40 -13 -54]]\n",
      "[[   4   10   18  210]\n",
      " [  28 3825 8330 1480]]\n",
      "[[0.25       0.4        0.5        1.07142857]\n",
      " [0.14285714 0.52941176 0.86734694 0.27027027]]\n"
     ]
    }
   ],
   "source": [
    "a = np.array([[1, 2, 3,15],[2,45,85,20]])\n",
    "b = np.array([[4, 5, 6,14],[14,85,98,74]])\n",
    "print(a + b)  # Output: [5 7 9]\n",
    "print(a - b) \n",
    "print(a * b) \n",
    "print(a / b) "
   ]
  },
  {
   "cell_type": "code",
   "execution_count": 36,
   "metadata": {},
   "outputs": [
    {
     "name": "stdout",
     "output_type": "stream",
     "text": [
      "[1.5 2.5 3.5]\n"
     ]
    }
   ],
   "source": [
    "\"\"\"\n",
    "10. Data Type Casting\n",
    "Rule: During operations, NumPy casts data to the most general type in the operation.\n",
    "Reason: Prevents loss of precision.\n",
    "\n",
    "\"\"\"\n",
    "arr = np.array([1, 2, 3])\n",
    "result = arr + 0.5\n",
    "print(result)  # Output: [1.5 2.5 3.5] (int to float)\n"
   ]
  },
  {
   "cell_type": "code",
   "execution_count": 37,
   "metadata": {},
   "outputs": [
    {
     "name": "stdout",
     "output_type": "stream",
     "text": [
      "(8,)\n"
     ]
    }
   ],
   "source": [
    "\"\"\"11. Memory Contiguity\n",
    "Rule: NumPy arrays are stored in contiguous memory blocks.\n",
    "Reason: Allows for faster access and computation compared to Python lists\n",
    "\"\"\"\n",
    "arr = np.array([1, 2, 3])\n",
    "print(arr.strides)  # Output: (8,) (bytes per step)\n",
    "\n",
    "# While storing in continuos memory location each step take 8 bytes \n"
   ]
  },
  {
   "cell_type": "code",
   "execution_count": null,
   "metadata": {},
   "outputs": [],
   "source": [
    "\"\"\"13. Indexing with Boolean Arrays\n",
    "Rule: Boolean arrays can be used to filter elements from another array.\n",
    "Reason: Provides a concise way to apply conditions\n",
    "\"\"\"\n",
    "arr = np.array([10, 20, 30, 40])\n",
    "print(arr[arr > 20])  # Output: [30 40]\n"
   ]
  },
  {
   "cell_type": "code",
   "execution_count": 38,
   "metadata": {},
   "outputs": [
    {
     "name": "stdout",
     "output_type": "stream",
     "text": [
      "[ 3 15 45 85 20]\n",
      "[14 85 98 74]\n",
      "[15 45 85 20]\n"
     ]
    }
   ],
   "source": [
    "a = np.array([[1, 2, 3,15],[2,45,85,20]])\n",
    "b = np.array([[4, 5, 6,14],[14,85,98,74]])\n",
    "\n",
    "print(a[a>2])\n",
    "print(b[a>5])\n",
    "print(a[a>5])"
   ]
  },
  {
   "cell_type": "code",
   "execution_count": 41,
   "metadata": {},
   "outputs": [
    {
     "name": "stdout",
     "output_type": "stream",
     "text": [
      "['Alice' 'Bob']\n",
      "[(1, 'Alice') (2, 'Bob')]\n"
     ]
    }
   ],
   "source": [
    "\"\"\"\n",
    "14. Structured Arrays\n",
    "Rule: NumPy allows creating arrays with named fields (like a table structure).\n",
    "Reason: Useful for handling structured data\n",
    "\"\"\"\n",
    "data = np.array([(1, 'Alice'), (2, 'Bob')], dtype=[('id', 'i4'), ('name', 'U10')])\n",
    "print(data['name'])  # Output: ['Alice' 'Bob']\n",
    "print(data)\n"
   ]
  },
  {
   "cell_type": "code",
   "execution_count": 43,
   "metadata": {},
   "outputs": [
    {
     "name": "stdout",
     "output_type": "stream",
     "text": [
      "2-D Array:\n",
      "[[ 1  2  3  4]\n",
      " [ 5  6  7  8]\n",
      " [ 9 10 11 12]]\n",
      "\n",
      "Element at row 1, column 2: 7\n",
      "\n",
      "Data type of elements: int64\n",
      "\n",
      "Shape of the array (rows, columns): (3, 4)\n",
      "\n",
      "Shape of the array (rows, columns): [[ 1  2  3]\n",
      " [ 4  5  6]\n",
      " [ 7  8  9]\n",
      " [10 11 12]]\n",
      "Size of the array (total number of elements): 12\n",
      "\n",
      "Resized 2-D Array:\n",
      "[[ 1  2  3  4]\n",
      " [ 5  6  7  8]\n",
      " [ 9 10 11 12]\n",
      " [ 0  0  0  0]]\n"
     ]
    }
   ],
   "source": [
    "\"\"\"Some opratios Based on 2-D array \"\"\"\n",
    "import numpy as np\n",
    "\n",
    "# Creating a 2-D array (3 rows, 4 columns)\n",
    "arr = np.array([[1, 2, 3, 4], [5, 6, 7, 8], [9, 10, 11, 12]])\n",
    "\n",
    "# 1. Row and Column Structure\n",
    "print(\"2-D Array:\")\n",
    "print(arr)\n",
    "\n",
    "# 2. Indexing - Accessing elements using row and column indices\n",
    "print(\"\\nElement at row 1, column 2:\", arr[1][2])  # Access element at row 1, column 2 (value 7)\n",
    "\n",
    "# 3. Homogeneous Data - Ensure all elements are of the same type\n",
    "print(\"\\nData type of elements:\", arr.dtype)\n",
    "\n",
    "# 4. Memory Storage - Showing the shape and size of the array\n",
    "print(\"\\nShape of the array (rows, columns):\", arr.shape)\n",
    "print(\"\\nShape of the array (rows, columns):\", arr.reshape(4,3))\n",
    "print(\"Size of the array (total number of elements):\", arr.size)\n",
    "\n",
    "# 5. Fixed Size - Trying to change the size of the array (this will throw an error)\n",
    "try:\n",
    "    arr.resize((4, 4))  # Resize to a 4x4 array\n",
    "    print(\"\\nResized 2-D Array:\")\n",
    "    print(arr)\n",
    "except Exception as e:\n",
    "    print(\"\\nError while resizing:\", e)\n"
   ]
  },
  {
   "cell_type": "code",
   "execution_count": 45,
   "metadata": {},
   "outputs": [
    {
     "name": "stdout",
     "output_type": "stream",
     "text": [
      "3-D Array:\n",
      "[[[ 1  2  3  4]\n",
      "  [ 5  6  7  8]\n",
      "  [ 9 10 11 12]]\n",
      "\n",
      " [[13 14 15 16]\n",
      "  [17 18 19 20]\n",
      "  [21 22 23 24]]]\n",
      "\n",
      "Element at depth 1, row 2, column 3: 24\n",
      "\n",
      "Data type of elements: int64\n",
      "\n",
      "Shape of the array (depth, rows, columns): (2, 3, 4)\n",
      "Size of the array (total number of elements): 24\n",
      "\n",
      "Resized 3-D Array:\n",
      "[[[ 1  2  3  4]\n",
      "  [ 5  6  7  8]\n",
      "  [ 9 10 11 12]]\n",
      "\n",
      " [[13 14 15 16]\n",
      "  [17 18 19 20]\n",
      "  [21 22 23 24]]\n",
      "\n",
      " [[ 0  0  0  0]\n",
      "  [ 0  0  0  0]\n",
      "  [ 0  0  0  0]]]\n"
     ]
    }
   ],
   "source": [
    "## SOME OPARATION BASED ON 3-D array \n",
    "import numpy as np\n",
    "\n",
    "# Creating a 3-D array (2 blocks, 3 rows, 4 columns)\n",
    "arr = np.array([[[1, 2, 3, 4], [5, 6, 7, 8], [9, 10, 11, 12]],\n",
    "                [[13, 14, 15, 16], [17, 18, 19, 20], [21, 22, 23, 24]]])\n",
    "\n",
    "# 1. Multi-dimensional Structure\n",
    "print(\"3-D Array:\")\n",
    "print(arr)\n",
    "\n",
    "# 2. Indexing - Accessing elements using depth, row, and column indices\n",
    "print(\"\\nElement at depth 1, row 2, column 3:\", arr[1][2][3])  # Access element at depth 1, row 2, column 3 (value 24)\n",
    "\n",
    "# 3. Homogeneous Data - Ensure all elements are of the same type\n",
    "print(\"\\nData type of elements:\", arr.dtype)\n",
    "\n",
    "# 4. Memory Storage - Showing the shape and size of the array\n",
    "print(\"\\nShape of the array (depth, rows, columns):\", arr.shape)\n",
    "print(\"Size of the array (total number of elements):\", arr.size)\n",
    "\n",
    "# 5. Fixed Size - Trying to change the size of the array (this will throw an error)\n",
    "try:\n",
    "    arr.resize((3, 3, 4))  # Resize to a new 3-D array with different dimensions\n",
    "    print(\"\\nResized 3-D Array:\")\n",
    "    print(arr)\n",
    "except Exception as e:\n",
    "    print(\"\\nError while resizing:\", e)\n"
   ]
  },
  {
   "cell_type": "code",
   "execution_count": 46,
   "metadata": {},
   "outputs": [
    {
     "name": "stdout",
     "output_type": "stream",
     "text": [
      "Shape of arr2: (2, 3)\n",
      "Total elements in arr1: 4\n",
      "Reshaped array:\n",
      " [[1 2]\n",
      " [3 4]]\n",
      "Element at (0, 2) in arr2: 3\n",
      "Slicing rows 0-1 and all columns:\n",
      " [[1 2 3]\n",
      " [4 5 6]]\n",
      "Mean of arr2: 3.5\n",
      "Sum of arr2: 21\n",
      "Standard deviation of arr2: 1.707825127659933\n",
      "Dot product of arr3 and arr4:\n",
      " [[19 22]\n",
      " [43 50]]\n",
      "Broadcasted array:\n",
      " [[11 12]\n",
      " [13 14]]\n",
      "Elements greater than 15: [ 0  0 20 25]\n",
      "Sorted array: [1 2 3 4 5]\n",
      "Indices of sorted elements: [1 2 0 4 3]\n",
      "Unique values in arr5: [10 15 20 25]\n",
      "Concatenated array:\n",
      " [[1 2]\n",
      " [3 4]\n",
      " [5 6]\n",
      " [7 8]]\n",
      "Split arrays: [array([10, 15]), array([20, 25])]\n",
      "Determinant of matrix: -2.0000000000000004\n",
      "Eigenvalues: [-0.37228132  5.37228132]\n",
      "Eigenvectors:\n",
      " [[-0.82456484 -0.41597356]\n",
      " [ 0.56576746 -0.90937671]]\n",
      "Random floats:\n",
      " [[0.74214099 0.0750001  0.62359179]\n",
      " [0.1907922  0.91398808 0.83601004]\n",
      " [0.29629531 0.20823493 0.58285408]]\n",
      "Random integers:\n",
      " [[7 6 2]\n",
      " [3 4 4]]\n",
      "Float array: [10. 15. 20. 25.]\n",
      "Memory consumed by arr6 (in bytes): 32\n"
     ]
    }
   ],
   "source": [
    "# SOME OPERATIONS WRT NUMPY_ARRAYS \n",
    "import numpy as np\n",
    "\n",
    "# 1. Creation of Arrays\n",
    "# Creating a 1-D array\n",
    "arr1 = np.array([1, 2, 3, 4])\n",
    "# Creating a 2-D array\n",
    "arr2 = np.array([[1, 2, 3], [4, 5, 6]])\n",
    "# Creating arrays with zeros, ones, and uninitialized values\n",
    "zeros_array = np.zeros((3, 3))  # 3x3 array of zeros\n",
    "ones_array = np.ones((2, 2))   # 2x2 array of ones\n",
    "empty_array = np.empty((2, 3))  # 2x3 uninitialized array\n",
    "\n",
    "# 2. Shape and Size\n",
    "print(\"Shape of arr2:\", arr2.shape)  # Dimensions of the array\n",
    "print(\"Total elements in arr1:\", arr1.size)  # Total number of elements\n",
    "\n",
    "# 3. Reshaping\n",
    "reshaped = arr1.reshape(2, 2)  # Reshaping 1-D array into 2x2\n",
    "print(\"Reshaped array:\\n\", reshaped)\n",
    "\n",
    "# 4. Indexing and Slicing\n",
    "print(\"Element at (0, 2) in arr2:\", arr2[0, 2])  # Accessing specific element\n",
    "print(\"Slicing rows 0-1 and all columns:\\n\", arr2[0:2, :])  # Slicing\n",
    "\n",
    "# 5. Statistical Functions\n",
    "print(\"Mean of arr2:\", arr2.mean())  # Mean of all elements\n",
    "print(\"Sum of arr2:\", arr2.sum())   # Sum of all elements\n",
    "print(\"Standard deviation of arr2:\", arr2.std())  # Standard deviation\n",
    "\n",
    "# 6. Mathematical Operations\n",
    "arr3 = np.array([[1, 2], [3, 4]])\n",
    "arr4 = np.array([[5, 6], [7, 8]])\n",
    "dot_product = np.dot(arr3, arr4)  # Matrix multiplication\n",
    "print(\"Dot product of arr3 and arr4:\\n\", dot_product)\n",
    "\n",
    "# 7. Broadcasting\n",
    "broadcasted = arr3 + 10  # Adds 10 to all elements\n",
    "print(\"Broadcasted array:\\n\", broadcasted)\n",
    "\n",
    "# 8. Logical Operations\n",
    "arr5 = np.array([10, 15, 20, 25])\n",
    "condition = arr5 > 15  # Element-wise condition\n",
    "print(\"Elements greater than 15:\", np.where(condition, arr5, 0))  # Conditional selection\n",
    "\n",
    "# 9. Sorting and Searching\n",
    "unsorted = np.array([3, 1, 2, 5, 4])\n",
    "sorted_array = np.sort(unsorted)  # Sorting\n",
    "print(\"Sorted array:\", sorted_array)\n",
    "indices = np.argsort(unsorted)  # Indices of sorted elements\n",
    "print(\"Indices of sorted elements:\", indices)\n",
    "\n",
    "# 10. Unique Values\n",
    "unique_values = np.unique(arr5)\n",
    "print(\"Unique values in arr5:\", unique_values)\n",
    "\n",
    "# 11. Concatenation and Splitting\n",
    "arr6 = np.array([[1, 2], [3, 4]])\n",
    "arr7 = np.array([[5, 6], [7, 8]])\n",
    "concatenated = np.concatenate((arr6, arr7), axis=0)  # Concatenating along rows\n",
    "print(\"Concatenated array:\\n\", concatenated)\n",
    "split = np.split(arr5, 2)  # Splitting into 2 parts\n",
    "print(\"Split arrays:\", split)\n",
    "\n",
    "# 12. Linear Algebra\n",
    "matrix = np.array([[1, 2], [3, 4]])\n",
    "determinant = np.linalg.det(matrix)  # Determinant of a matrix\n",
    "print(\"Determinant of matrix:\", determinant)\n",
    "eigenvalues, eigenvectors = np.linalg.eig(matrix)  # Eigenvalues and eigenvectors\n",
    "print(\"Eigenvalues:\", eigenvalues)\n",
    "print(\"Eigenvectors:\\n\", eigenvectors)\n",
    "\n",
    "# 13. Random Sampling\n",
    "random_floats = np.random.rand(3, 3)  # Random floats\n",
    "random_integers = np.random.randint(1, 10, (2, 3))  # Random integers\n",
    "print(\"Random floats:\\n\", random_floats)\n",
    "print(\"Random integers:\\n\", random_integers)\n",
    "\n",
    "# 14. Data Type Conversion\n",
    "float_array = arr5.astype(float)  # Convert to float\n",
    "print(\"Float array:\", float_array)\n",
    "\n",
    "# 15. Memory Optimization\n",
    "print(\"Memory consumed by arr6 (in bytes):\", arr6.nbytes)\n"
   ]
  },
  {
   "cell_type": "code",
   "execution_count": null,
   "metadata": {},
   "outputs": [],
   "source": []
  }
 ],
 "metadata": {
  "kernelspec": {
   "display_name": "Python 3",
   "language": "python",
   "name": "python3"
  },
  "language_info": {
   "codemirror_mode": {
    "name": "ipython",
    "version": 3
   },
   "file_extension": ".py",
   "mimetype": "text/x-python",
   "name": "python",
   "nbconvert_exporter": "python",
   "pygments_lexer": "ipython3",
   "version": "3.10.0"
  }
 },
 "nbformat": 4,
 "nbformat_minor": 2
}
