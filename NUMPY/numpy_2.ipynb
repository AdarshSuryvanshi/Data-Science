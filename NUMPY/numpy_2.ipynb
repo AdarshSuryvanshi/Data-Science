{
 "cells": [
  {
   "cell_type": "code",
   "execution_count": 1,
   "metadata": {},
   "outputs": [],
   "source": [
    "import numpy as np"
   ]
  },
  {
   "cell_type": "code",
   "execution_count": 13,
   "metadata": {},
   "outputs": [
    {
     "name": "stdout",
     "output_type": "stream",
     "text": [
      "Element at index 0: 10\n",
      "Element at index 3: 20\n",
      "Element at index 2: 50\n",
      "Element at index 2: 52\n",
      "Element at index 4: 50\n",
      "Last element using negative indexing: 50\n",
      "Last element using negative indexing: 52\n",
      "Last element using negative indexing: 56\n",
      "Last element using negative indexing: 99\n"
     ]
    },
    {
     "data": {
      "text/plain": [
       "'\\n    1) YOU CAN CHNAGE THE ELELEMNT AT ANY INDEX\\n    2) YOU CANNOT ADD THE ELEMENT \\n    3) YOU CANNOT DELETE THE ELEMENT \\n'"
      ]
     },
     "execution_count": 13,
     "metadata": {},
     "output_type": "execute_result"
    }
   ],
   "source": [
    "# Basic indexing in 1-D Array \n",
    "\n",
    "import numpy as np\n",
    "\n",
    "# Creating a 1-D array\n",
    "arr = np.array([10, 20, 30, 40, 50])\n",
    "\n",
    "# Accessing elements\n",
    "print(\"Element at index 0:\", arr[0])  # 10\n",
    "print(\"Element at index 3:\", arr[1])  \n",
    "\n",
    "arr[2]=50\n",
    "\n",
    "print(\"Element at index 2:\", arr[2])    \n",
    "arr[3]=52\n",
    "print(\"Element at index 2:\", arr[3]) \n",
    "print(\"Element at index 4:\", arr[4])  \n",
    "print(\"Last element using negative indexing:\", arr[-1]) \n",
    "print(\"Last element using negative indexing:\", arr[-2]) \n",
    "arr[-4]=56\n",
    "print(\"Last element using negative indexing:\", arr[-4]) \n",
    "arr[-3]=99\n",
    "print(\"Last element using negative indexing:\", arr[-3]) \n",
    "\n",
    "## IN NUMPY ARRAY YOU CAN CHANGE THE ELEMENT AT PARTICULAR INDEX \n",
    "\"\"\"\n",
    "    1) YOU CAN CHNAGE THE ELELEMNT AT ANY INDEX\n",
    "    2) YOU CANNOT ADD THE ELEMENT \n",
    "    3) YOU CANNOT DELETE THE ELEMENT \n",
    "\"\"\"\n",
    "\n"
   ]
  },
  {
   "cell_type": "code",
   "execution_count": 15,
   "metadata": {},
   "outputs": [
    {
     "name": "stdout",
     "output_type": "stream",
     "text": [
      "Elements from index 1 to 3: [400 600 800]\n",
      "Elements from start to index 2: [200 400 600]\n",
      "Elements from index 2 to end: [600 800 100]\n",
      "Every second element: [200 600 100]\n",
      "Elements in reverse order: [100 800 600 400 200]\n"
     ]
    }
   ],
   "source": [
    "# Slicing in the 1-D array \n",
    "# Slicing syntax: arr[start:end:step]\n",
    "# 'start' is inclusive, 'end' is exclusive, 'step' determines the interval.\n",
    "# Slicing aso\n",
    "\n",
    "# Example slices\n",
    "print(\"Elements from index 1 to 3:\", arr[1:4])  # [20, 30, 40]\n",
    "print(\"Elements from start to index 2:\", arr[:3])  # [10, 20, 30]\n",
    "print(\"Elements from index 2 to end:\", arr[2:])  # [30, 40, 50]\n",
    "print(\"Every second element:\", arr[::2])  # [10, 30, 50]\n",
    "print(\"Elements in reverse order:\", arr[::-1])  # [50, 40, 30, 20, 10]\n"
   ]
  },
  {
   "cell_type": "code",
   "execution_count": 12,
   "metadata": {},
   "outputs": [
    {
     "name": "stdout",
     "output_type": "stream",
     "text": [
      "Elements from index 1 to 3: [56 52]\n"
     ]
    }
   ],
   "source": [
    "print(\"Elements from index 1 to 3:\", arr[1:4:2])"
   ]
  },
  {
   "cell_type": "code",
   "execution_count": 17,
   "metadata": {},
   "outputs": [
    {
     "name": "stdout",
     "output_type": "stream",
     "text": [
      "Original Array: [10 20 30 40 50]\n",
      "\n",
      "# 1. Basic Indexing\n",
      "Element at index 0: 10\n",
      "Element at index 3: 40\n",
      "Last element using negative indexing: 50\n",
      "\n",
      "# 2. Slicing\n",
      "Elements from index 1 to 3 (inclusive of 1, exclusive of 3): [20 30 40]\n",
      " Elelemnts from 1 to lat :- [20 30 40 50]\n",
      "Elements from start to index 2: [10 20 30]\n",
      "Elements from index 2 to end: [30 40 50]\n",
      "Every second element: [10 30 50]\n",
      "Elements in reverse order: [50 40 30 20 10]\n",
      "\n",
      "# 3. Conditional Indexing\n",
      "Elements greater than 25: [30 40 50]\n",
      "Elements divisible by 10: [10 20 30 40 50]\n",
      "Elements divisible by 2: [10 20 30 40 50]\n",
      "Elements greater than 5: [10 20 30 40 50]\n",
      "\n",
      "# 4. Fancy Indexing\n",
      "Elements at indices 0, 2, and 4: [10 30 50]\n",
      "\n",
      "# 5. Modifying Elements\n",
      "Array after changing the first element: [100  20  30  40  50]\n",
      "Array after modifying elements from index start to 3: [600 300 700 500 800]\n",
      "\n",
      "# 6. Combining Slicing and Conditional Indexing\n",
      "Subset of elements greater than 100: [600 300]\n",
      "\n",
      "# 7. Reverse Indexing and Modifications\n",
      "Array after reversing and doubling elements: [1200  600 1400 1000 1600]\n",
      "\n",
      "Final Array State: [1200  600 1400 1000 1600]\n"
     ]
    }
   ],
   "source": [
    "### Understanding examples in 1-D Array \n",
    "\n",
    "import numpy as np\n",
    "\n",
    "# Creating a 1-D array\n",
    "arr = np.array([10, 20, 30, 40, 50])\n",
    "print(\"Original Array:\", arr)\n",
    "\n",
    "# 1. Basic Indexing\n",
    "print(\"\\n# 1. Basic Indexing\")\n",
    "print(\"Element at index 0:\", arr[0])  # First element\n",
    "print(\"Element at index 3:\", arr[3])  # Fourth element\n",
    "print(\"Last element using negative indexing:\", arr[-1])  # Last element\n",
    "\n",
    "# 2. Slicing\n",
    "print(\"\\n# 2. Slicing\")\n",
    "# Slice syntax: arr[start:end:step]\n",
    "print(\"Elements from index 1 to 3 (inclusive of 1, exclusive of 3):\", arr[1:4])  # [20, 30, 40]\n",
    "print(\" Elelemnts from 1 to lat :-\",arr[1::])\n",
    "print(\"Elements from start to index 2:\", arr[:3])  # [10, 20, 30]\n",
    "print(\"Elements from index 2 to end:\", arr[2:])  # [30, 40, 50]\n",
    "print(\"Every second element:\", arr[::2])  # [10, 30, 50]\n",
    "print(\"Elements in reverse order:\", arr[::-1])  # [50, 40, 30, 20, 10]\n",
    "\n",
    "# 3. Conditional Indexing\n",
    "print(\"\\n# 3. Conditional Indexing\")\n",
    "# Access elements that meet a condition\n",
    "print(\"Elements greater than 25:\", arr[arr > 25])  # [30, 40, 50]\n",
    "print(\"Elements divisible by 10:\", arr[arr % 10 == 0])  # [10, 20, 30, 40, 50]\n",
    "print(\"Elements divisible by 2:\", arr[arr % 2 == 0]) \n",
    "print(\"Elements greater than 5:\", arr[arr > 5])   \n",
    "\n",
    "# 4. Fancy Indexing\n",
    "print(\"\\n# 4. Fancy Indexing\")\n",
    "# Select multiple elements using a list of indices\n",
    "indices = [0, 2, 4]\n",
    "print(\"Elements at indices 0, 2, and 4:\", arr[indices])  # [10, 30, 50]\n",
    "\n",
    "# 5. Modifying Elements\n",
    "print(\"\\n# 5. Modifying Elements\")\n",
    "arr[0] = 100  # Modify a single element\n",
    "print(\"Array after changing the first element:\", arr)  # [100, 20, 30, 40, 50]\n",
    "arr[1:4] = [200, 300, 400]  # Modify a slice\n",
    "arr[:4] = [200, 300, 400,500]\n",
    "arr[::2] = [600, 700, 800]\n",
    "print(\"Array after modifying elements from index start to 3:\", arr)  \n",
    "\n",
    "# 6. Combining Slicing and Conditional Indexing\n",
    "print(\"\\n# 6. Combining Slicing and Conditional Indexing\")\n",
    "# Access elements greater than 100 and slice the result\n",
    "subset = arr[arr > 100][:2]  # Take the first two elements greater than 100\n",
    "print(\"Subset of elements greater than 100:\", subset)  # [200, 300]\n",
    "\n",
    "# 7. Reverse Indexing and Modifications\n",
    "print(\"\\n# 7. Reverse Indexing and Modifications\")\n",
    "arr[::-1] = arr[::-1] * 2  # Reverse and double each element\n",
    "print(\"Array after reversing and doubling elements:\", arr)  # [100, 400, 600, 800, 200]\n",
    "\n",
    "# Summary\n",
    "print(\"\\nFinal Array State:\", arr)\n"
   ]
  },
  {
   "cell_type": "code",
   "execution_count": 21,
   "metadata": {},
   "outputs": [
    {
     "name": "stdout",
     "output_type": "stream",
     "text": [
      "Original Array:\n",
      " [[ 1  2  3  4]\n",
      " [ 5  6  7  8]\n",
      " [ 9 10 11 12]]\n",
      "Element at row 1, column 2: 1\n",
      "Element at row 1, column 2: 2\n",
      "Element at row 1, column 2: 3\n",
      "Element at row 1, column 2: 4\n",
      "Element at row 1, column 2: 5\n",
      "Element at row 1, column 2: 6\n",
      "Element at row 1, column 2: 7\n",
      "Element at row 1, column 2: 8\n",
      "\n",
      "Accessing each element in the 2-D array:\n",
      "Element at row 0, column 0: 1\n",
      "Element at row 0, column 1: 2\n",
      "Element at row 0, column 2: 3\n",
      "Element at row 0, column 3: 4\n",
      "Element at row 1, column 0: 5\n",
      "Element at row 1, column 1: 6\n",
      "Element at row 1, column 2: 7\n",
      "Element at row 1, column 3: 8\n",
      "Element at row 2, column 0: 9\n",
      "Element at row 2, column 1: 10\n",
      "Element at row 2, column 2: 11\n",
      "Element at row 2, column 3: 12\n"
     ]
    },
    {
     "data": {
      "text/plain": [
       "'\\nExplanation of arr.shape[0]:\\n    arr.shape[0] refers to the number of rows in the array.\\n    In the above example, arr.shape is (2, 3), meaning the array has:\\n    2 rows (first value, arr.shape[0]).\\n    3 columns (second value, arr.shape[1]).\\n\\nWhy is it useful?\\n1)  You can use arr.shape[0] to:\\n    Determine the number of rows dynamically in a program.\\n    Iterate through rows in a loop.\\n\\n2) You can use arr.shape[1] to:\\n    Determine the number of cloumns dynamically in a program.\\n    Iterate through rows in a loop.\\n\\n\\n'"
      ]
     },
     "execution_count": 21,
     "metadata": {},
     "output_type": "execute_result"
    }
   ],
   "source": [
    "### Understanding examples in 2-D Arrays \n",
    "\n",
    "#**  Diffrent Ways  to Access each element in 2-D array **# \n",
    "import numpy as np\n",
    "\n",
    "# Create a 2-D array\n",
    "arr = np.array([[1, 2, 3, 4],\n",
    "                [5, 6, 7, 8],\n",
    "                [9, 10, 11, 12]])\n",
    "\n",
    "print(\"Original Array:\\n\", arr)\n",
    "\n",
    "# Accessing a each element mannual method \n",
    "print(\"Element at row 1, column 2:\", arr[0, 0])\n",
    "print(\"Element at row 1, column 2:\", arr[0, 1])\n",
    "print(\"Element at row 1, column 2:\", arr[0, 2])\n",
    "print(\"Element at row 1, column 2:\", arr[0, 3])\n",
    "print(\"Element at row 1, column 2:\", arr[1, 0])\n",
    "print(\"Element at row 1, column 2:\", arr[1, 1])\n",
    "print(\"Element at row 1, column 2:\", arr[1, 2])\n",
    "print(\"Element at row 1, column 2:\", arr[1, 3])\n",
    "\n",
    "\n",
    "# Accessing each element using nested loops\n",
    "print(\"\\nAccessing each element in the 2-D array:\")\n",
    "for i in range(arr.shape[0]):  # Iterate through rows\n",
    "    for j in range(arr.shape[1]):  # Iterate through columns\n",
    "        print(f\"Element at row {i}, column {j}:\", arr[i, j])\n",
    "\n",
    "\n",
    "#### IMPORTANT :- \n",
    "\"\"\"\n",
    "Explanation of arr.shape[0]:\n",
    "    arr.shape[0] refers to the number of rows in the array.\n",
    "    In the above example, arr.shape is (2, 3), meaning the array has:\n",
    "    2 rows (first value, arr.shape[0]).\n",
    "    3 columns (second value, arr.shape[1]).\n",
    "\n",
    "Why is it useful?\n",
    "1)  You can use arr.shape[0] to:\n",
    "    Determine the number of rows dynamically in a program.\n",
    "    Iterate through rows in a loop.\n",
    "\n",
    "2) You can use arr.shape[1] to:\n",
    "    Determine the number of cloumns dynamically in a program.\n",
    "    Iterate through rows in a loop.\n",
    "\n",
    "\n",
    "\"\"\"\n"
   ]
  },
  {
   "cell_type": "code",
   "execution_count": 23,
   "metadata": {},
   "outputs": [
    {
     "name": "stdout",
     "output_type": "stream",
     "text": [
      "First row: [1 2 3 4]\n",
      "Second row: [5 6 7 8]\n",
      "Third  row: [ 9 10 11 12]\n",
      "\n",
      "Accessing each row:\n",
      "Row 0: [1 2 3 4]\n",
      "Row 1: [5 6 7 8]\n",
      "Row 2: [ 9 10 11 12]\n"
     ]
    }
   ],
   "source": [
    "#### #**  Diffrent Ways  to Access each row in 2-D array **# \n",
    "\n",
    "# Accessing a row mannaully \n",
    "print(\"First row:\", arr[0, :])\n",
    "print(\"Second row:\", arr[1, :])\n",
    "print(\"Third  row:\", arr[2, :])\n",
    "\n",
    "\n",
    "\n",
    "# Access each row using a loop\n",
    "print(\"\\nAccessing each row:\")\n",
    "for i in range(arr.shape[0]):  # Iterate through rows\n",
    "    print(f\"Row {i}:\", arr[i])\n"
   ]
  },
  {
   "cell_type": "code",
   "execution_count": 26,
   "metadata": {},
   "outputs": [
    {
     "name": "stdout",
     "output_type": "stream",
     "text": [
      "First Column: [1 5 9]\n",
      "Second Column: [ 2  6 10]\n",
      "Third  Column: [ 3  7 11]\n",
      "Fourth  Column: [ 4  8 12]\n",
      "\n",
      "Accessing each Column:\n",
      "Row 0: [1 5 9]\n",
      "Row 1: [ 2  6 10]\n",
      "Row 2: [ 3  7 11]\n",
      "Row 3: [ 4  8 12]\n"
     ]
    }
   ],
   "source": [
    "#### #**  Diffrent Ways  to Access each Column in 2-D array **# \n",
    "# Accessing a row mannaully \n",
    "print(\"First Column:\", arr[:, 0])\n",
    "print(\"Second Column:\", arr[:, 1])\n",
    "print(\"Third  Column:\", arr[:, 2])\n",
    "print(\"Fourth  Column:\", arr[:, 3])\n",
    "\n",
    "\n",
    "\n",
    "\n",
    "# Access each Column using a loop\n",
    "print(\"\\nAccessing each Column:\")\n",
    "for i in range(arr.shape[1]):  # Iterate through Column\n",
    "    print(f\"Row {i}:\", arr[:,i])\n"
   ]
  },
  {
   "cell_type": "code",
   "execution_count": 27,
   "metadata": {},
   "outputs": [
    {
     "name": "stdout",
     "output_type": "stream",
     "text": [
      "Subarray (rows 0 to 1, columns 1 to 2):\n",
      " [[2 3]\n",
      " [6 7]]\n"
     ]
    }
   ],
   "source": [
    "# Slicing rows and columns\n",
    "\n",
    "print(\"Subarray (rows 0 to 1, columns 1 to 2):\\n\", arr[0:2, 1:3])"
   ]
  },
  {
   "cell_type": "code",
   "execution_count": 34,
   "metadata": {},
   "outputs": [
    {
     "name": "stdout",
     "output_type": "stream",
     "text": [
      "Subarray (rows 0 to 2, columns 0 to 2):\n",
      " [[1 2]\n",
      " [5 6]]\n"
     ]
    }
   ],
   "source": [
    "print(\"Subarray (rows 0 to 2, columns 0 to 2):\\n\", arr[0:2, 0:2])\n"
   ]
  },
  {
   "cell_type": "code",
   "execution_count": 31,
   "metadata": {},
   "outputs": [
    {
     "name": "stdout",
     "output_type": "stream",
     "text": [
      "Subarray (rows 1 to 2, columns 1 to 2):\n",
      " [[ 6  7]\n",
      " [10 11]]\n"
     ]
    }
   ],
   "source": [
    "print(\"Subarray (rows 1 to 2, columns 1 to 2):\\n\", arr[1:3, 1:3])"
   ]
  },
  {
   "cell_type": "code",
   "execution_count": 37,
   "metadata": {},
   "outputs": [
    {
     "name": "stdout",
     "output_type": "stream",
     "text": [
      "Subarray (:\n",
      " [[ 7  8]\n",
      " [11 12]]\n"
     ]
    }
   ],
   "source": [
    "print(\"Subarray (:\\n\", arr[1:3, 2:4])"
   ]
  },
  {
   "cell_type": "code",
   "execution_count": 38,
   "metadata": {},
   "outputs": [
    {
     "name": "stdout",
     "output_type": "stream",
     "text": [
      "Subarray :\n",
      " [[ 2  3  4]\n",
      " [ 6  7  8]\n",
      " [10 11 12]]\n"
     ]
    }
   ],
   "source": [
    "print(\"Subarray :\\n\", arr[:, 1:4])"
   ]
  },
  {
   "cell_type": "code",
   "execution_count": 39,
   "metadata": {},
   "outputs": [
    {
     "name": "stdout",
     "output_type": "stream",
     "text": [
      "Subarray :\n",
      " [[ 1  2  3]\n",
      " [ 5  6  7]\n",
      " [ 9 10 11]]\n"
     ]
    }
   ],
   "source": [
    "print(\"Subarray :\\n\", arr[:, 0:3])"
   ]
  },
  {
   "cell_type": "code",
   "execution_count": 41,
   "metadata": {},
   "outputs": [
    {
     "name": "stdout",
     "output_type": "stream",
     "text": [
      "Subarray n:-\n",
      " [[1 2 3]\n",
      " [5 6 7]]\n"
     ]
    }
   ],
   "source": [
    "print(\"Subarray n:-\\n\", arr[0:2, 0:3])"
   ]
  },
  {
   "cell_type": "code",
   "execution_count": 42,
   "metadata": {},
   "outputs": [
    {
     "name": "stdout",
     "output_type": "stream",
     "text": [
      "Subarray n:-\n",
      " [[1 3]]\n"
     ]
    }
   ],
   "source": [
    "print(\"Subarray n:-\\n\", arr[0:2:2, 0:3:2])"
   ]
  },
  {
   "cell_type": "code",
   "execution_count": 46,
   "metadata": {},
   "outputs": [
    {
     "name": "stdout",
     "output_type": "stream",
     "text": [
      "Subarray n:-\n",
      " [[ 1  3]\n",
      " [ 9 11]]\n"
     ]
    }
   ],
   "source": [
    "print(\"Subarray n:-\\n\", arr[0:3:2, 0:3:2])## Steps for cloumn and row  here.. not go to cloumn (1) directly go to cloumn 2 from cloumn 0\n",
    "                                            ## not go to row (1) directly go to row 2 from row 0"
   ]
  },
  {
   "cell_type": "code",
   "execution_count": 45,
   "metadata": {},
   "outputs": [
    {
     "name": "stdout",
     "output_type": "stream",
     "text": [
      "Subarray n:-\n",
      " [[ 1  3]\n",
      " [ 5  7]\n",
      " [ 9 11]]\n"
     ]
    }
   ],
   "source": [
    "print(\"Subarray n:-\\n\", arr[0:3, 0:3:2]) ## Steps for cloumn here.. not go to cloumn (1) directly go to cloumn 2 from cloumn 0"
   ]
  },
  {
   "cell_type": "code",
   "execution_count": null,
   "metadata": {},
   "outputs": [],
   "source": []
  }
 ],
 "metadata": {
  "kernelspec": {
   "display_name": "Python 3",
   "language": "python",
   "name": "python3"
  },
  "language_info": {
   "codemirror_mode": {
    "name": "ipython",
    "version": 3
   },
   "file_extension": ".py",
   "mimetype": "text/x-python",
   "name": "python",
   "nbconvert_exporter": "python",
   "pygments_lexer": "ipython3",
   "version": "3.10.0"
  }
 },
 "nbformat": 4,
 "nbformat_minor": 2
}
